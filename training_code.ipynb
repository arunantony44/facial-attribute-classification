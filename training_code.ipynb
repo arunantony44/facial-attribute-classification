{
  "nbformat": 4,
  "nbformat_minor": 0,
  "metadata": {
    "colab": {
      "name": "training_code.ipynb",
      "provenance": [],
      "collapsed_sections": []
    },
    "kernelspec": {
      "name": "python3",
      "display_name": "Python 3"
    },
    "language_info": {
      "name": "python"
    }
  },
  "cells": [
    {
      "cell_type": "markdown",
      "metadata": {
        "id": "i4yL2-QaWt0h"
      },
      "source": [
        "### Import the required libraries."
      ]
    },
    {
      "cell_type": "code",
      "metadata": {
        "id": "Azb2KRqwHGc-"
      },
      "source": [
        "import pandas as pd\n",
        "import numpy as np\n",
        "import matplotlib.pyplot as plt\n",
        "import matplotlib.image as mpimg\n",
        "from google.colab import files, drive\n",
        "import cv2, glob, re, io, zipfile\n",
        "from os import listdir\n",
        "from sklearn.model_selection import train_test_split\n",
        "import tensorflow as tf\n",
        "from tensorflow.keras import datasets, layers, models, optimizers\n",
        "from keras.callbacks import ModelCheckpoint\n",
        "from tensorflow.keras.layers.experimental import preprocessing\n",
        "from keras.models import Model, load_model\n",
        "from tensorflow import keras\n",
        "from sklearn.metrics import f1_score, precision_score, recall_score, confusion_matrix, classification_report"
      ],
      "execution_count": 16,
      "outputs": []
    },
    {
      "cell_type": "markdown",
      "metadata": {
        "id": "nlYT_YKEHNjf"
      },
      "source": [
        "### Read the images and annotation.\n",
        "\n",
        "\n"
      ]
    },
    {
      "cell_type": "code",
      "metadata": {
        "colab": {
          "resources": {
            "http://localhost:8080/nbextensions/google.colab/files.js": {
              "data": "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",
              "ok": true,
              "headers": [
                [
                  "content-type",
                  "application/javascript"
                ]
              ],
              "status": 200,
              "status_text": ""
            }
          },
          "base_uri": "https://localhost:8080/",
          "height": 74
        },
        "id": "sReqWazbG5S3",
        "outputId": "49a75d89-3c51-4bf8-b2c2-d0582d6d97ad"
      },
      "source": [
        "uploaded = files.upload()\n",
        "\n",
        "data = pd.read_csv(io.BytesIO(uploaded['annotations.csv']))"
      ],
      "execution_count": 17,
      "outputs": [
        {
          "output_type": "display_data",
          "data": {
            "text/html": [
              "\n",
              "     <input type=\"file\" id=\"files-ca35b67e-fd3b-49fc-99b5-2fb839c9d64a\" name=\"files[]\" multiple disabled\n",
              "        style=\"border:none\" />\n",
              "     <output id=\"result-ca35b67e-fd3b-49fc-99b5-2fb839c9d64a\">\n",
              "      Upload widget is only available when the cell has been executed in the\n",
              "      current browser session. Please rerun this cell to enable.\n",
              "      </output>\n",
              "      <script src=\"/nbextensions/google.colab/files.js\"></script> "
            ],
            "text/plain": [
              "<IPython.core.display.HTML object>"
            ]
          },
          "metadata": {
            "tags": []
          }
        },
        {
          "output_type": "stream",
          "text": [
            "Saving annotations.csv to annotations.csv\n"
          ],
          "name": "stdout"
        }
      ]
    },
    {
      "cell_type": "code",
      "metadata": {
        "colab": {
          "base_uri": "https://localhost:8080/",
          "height": 203
        },
        "id": "MzxtBrx5iDur",
        "outputId": "3aac99e7-4535-417e-f740-fabc220a98f4"
      },
      "source": [
        "data.head()"
      ],
      "execution_count": 18,
      "outputs": [
        {
          "output_type": "execute_result",
          "data": {
            "text/html": [
              "<div>\n",
              "<style scoped>\n",
              "    .dataframe tbody tr th:only-of-type {\n",
              "        vertical-align: middle;\n",
              "    }\n",
              "\n",
              "    .dataframe tbody tr th {\n",
              "        vertical-align: top;\n",
              "    }\n",
              "\n",
              "    .dataframe thead th {\n",
              "        text-align: right;\n",
              "    }\n",
              "</style>\n",
              "<table border=\"1\" class=\"dataframe\">\n",
              "  <thead>\n",
              "    <tr style=\"text-align: right;\">\n",
              "      <th></th>\n",
              "      <th>image_name</th>\n",
              "      <th>wrinkles</th>\n",
              "      <th>freakles</th>\n",
              "      <th>glasses</th>\n",
              "      <th>hair_color</th>\n",
              "      <th>hair_top</th>\n",
              "      <th>no_face_shown_or_not_human</th>\n",
              "    </tr>\n",
              "  </thead>\n",
              "  <tbody>\n",
              "    <tr>\n",
              "      <th>0</th>\n",
              "      <td>87.jpg</td>\n",
              "      <td>1</td>\n",
              "      <td>0</td>\n",
              "      <td>0</td>\n",
              "      <td>2</td>\n",
              "      <td>0</td>\n",
              "      <td>0</td>\n",
              "    </tr>\n",
              "    <tr>\n",
              "      <th>1</th>\n",
              "      <td>110.jpg</td>\n",
              "      <td>1</td>\n",
              "      <td>0</td>\n",
              "      <td>0</td>\n",
              "      <td>2</td>\n",
              "      <td>0</td>\n",
              "      <td>0</td>\n",
              "    </tr>\n",
              "    <tr>\n",
              "      <th>2</th>\n",
              "      <td>117.jpg</td>\n",
              "      <td>1</td>\n",
              "      <td>1</td>\n",
              "      <td>0</td>\n",
              "      <td>6</td>\n",
              "      <td>2</td>\n",
              "      <td>0</td>\n",
              "    </tr>\n",
              "    <tr>\n",
              "      <th>3</th>\n",
              "      <td>358.jpg</td>\n",
              "      <td>0</td>\n",
              "      <td>0</td>\n",
              "      <td>0</td>\n",
              "      <td>6</td>\n",
              "      <td>2</td>\n",
              "      <td>0</td>\n",
              "    </tr>\n",
              "    <tr>\n",
              "      <th>4</th>\n",
              "      <td>389.jpg</td>\n",
              "      <td>0</td>\n",
              "      <td>0</td>\n",
              "      <td>2</td>\n",
              "      <td>6</td>\n",
              "      <td>0</td>\n",
              "      <td>0</td>\n",
              "    </tr>\n",
              "  </tbody>\n",
              "</table>\n",
              "</div>"
            ],
            "text/plain": [
              "  image_name  wrinkles  ...  hair_top  no_face_shown_or_not_human\n",
              "0     87.jpg         1  ...         0                           0\n",
              "1    110.jpg         1  ...         0                           0\n",
              "2    117.jpg         1  ...         2                           0\n",
              "3    358.jpg         0  ...         2                           0\n",
              "4    389.jpg         0  ...         0                           0\n",
              "\n",
              "[5 rows x 7 columns]"
            ]
          },
          "metadata": {
            "tags": []
          },
          "execution_count": 18
        }
      ]
    },
    {
      "cell_type": "code",
      "metadata": {
        "colab": {
          "base_uri": "https://localhost:8080/"
        },
        "id": "bal8O5ZRjWHW",
        "outputId": "721babea-e00c-4abc-d601-6f40c8f96721"
      },
      "source": [
        "drive.mount('/content/drive')"
      ],
      "execution_count": 4,
      "outputs": [
        {
          "output_type": "stream",
          "text": [
            "Mounted at /content/drive\n"
          ],
          "name": "stdout"
        }
      ]
    },
    {
      "cell_type": "code",
      "metadata": {
        "id": "iGUzDjHpi4_i"
      },
      "source": [
        "filename = \"/content/drive/MyDrive/all.zip\"\n",
        "with zipfile.ZipFile(filename, 'r') as zipp:\n",
        "  zipp.extractall()\n",
        "  zipp.close()"
      ],
      "execution_count": 9,
      "outputs": []
    },
    {
      "cell_type": "code",
      "metadata": {
        "id": "istBxkEs9nEv"
      },
      "source": [
        "# for sorting \n",
        "digits = re.compile(r'(\\d+)')\n",
        "_nsre = re.compile('([0-9]+)')\n",
        "\n",
        "def natural_sort_key(s):\n",
        "    return [int(text) if text.isdigit() else text.lower()\n",
        "            for text in re.split(_nsre, s)] \n",
        "\n",
        "def tokenize(filename):\n",
        "    return tuple(int(token) if match else token\n",
        "                 for token, match in\n",
        "                 ((fragment, digits.search(fragment))\n",
        "                  for fragment in digits.split(filename)))"
      ],
      "execution_count": 8,
      "outputs": []
    },
    {
      "cell_type": "code",
      "metadata": {
        "id": "SYMmbBUCwxgl"
      },
      "source": [
        "items = glob.glob('/content/all/*')\n",
        "items.sort(key=natural_sort_key)\n",
        "\n",
        "aaa = []\n",
        "for each_image in items:\n",
        "  # if each_image.endswith(\".jpg\") or each_image.endswith(\".jpeg\"):\n",
        "    image = cv2.imread(each_image)\n",
        "    image = cv2.resize(image, (96,96))\n",
        "    aaa.append(image)\n"
      ],
      "execution_count": 10,
      "outputs": []
    },
    {
      "cell_type": "code",
      "metadata": {
        "colab": {
          "base_uri": "https://localhost:8080/",
          "height": 286
        },
        "id": "sQBgDMRdTP8k",
        "outputId": "6b8b07c1-e791-4128-9ec2-abf271a4693a"
      },
      "source": [
        "# path of the image files in the drive\n",
        "dir_struct = '/content/all/'\n",
        "file_list = listdir(dir_struct) # it will return all the image file names as a list\n",
        "file_list.sort(key=natural_sort_key)\n",
        "print('A sample file name: {}'.format(file_list[0]))\n",
        "\n",
        "# Change color to RGB from OpenCV's BGR format since this library uses BGR format [rather than RGB] for historical purposes\n",
        "image = cv2.imread(dir_struct+file_list[0])\n",
        "image = cv2.cvtColor(image, cv2.COLOR_BGR2RGB)\n",
        "plt.imshow(image)"
      ],
      "execution_count": 11,
      "outputs": [
        {
          "output_type": "stream",
          "text": [
            "A sample file name: 87.jpg\n"
          ],
          "name": "stdout"
        },
        {
          "output_type": "execute_result",
          "data": {
            "text/plain": [
              "<matplotlib.image.AxesImage at 0x7f57c3034450>"
            ]
          },
          "metadata": {
            "tags": []
          },
          "execution_count": 11
        },
        {
          "output_type": "display_data",
          "data": {
            "image/png": "[encoded data removed]",
            "text/plain": [
              "<Figure size 432x288 with 1 Axes>"
            ]
          },
          "metadata": {
            "tags": [],
            "needs_background": "light"
          }
        }
      ]
    },
    {
      "cell_type": "code",
      "metadata": {
        "id": "16HQk2ALYKlx"
      },
      "source": [
        "flattened_image = image.reshape((-1,3)) \n",
        "flattened_image = np.float32(flattened_image)"
      ],
      "execution_count": null,
      "outputs": []
    },
    {
      "cell_type": "markdown",
      "metadata": {
        "id": "exDBX2m52UoH"
      },
      "source": [
        "Specifying the labels"
      ]
    },
    {
      "cell_type": "code",
      "metadata": {
        "id": "evAY3D61ZEMN"
      },
      "source": [
        "wrinkles = ['have_wrinkles','no_wrinkles']\n",
        "freakles = ['have_freakles', 'no_freakles']\n",
        "glasses = ['do_not_wear', 'wear_normal','wear_sunglasses']\n",
        "hair_color = ['brown', 'black', 'gray', 'blonde', 'red', 'white', 'mixed','other','not_visible']\n",
        "hair_top = ['bald_or_shaved', 'has_few_hair', 'has_thick_hair', 'not_visible']\n",
        "\n",
        "labels_wrinkles = []\n",
        "labels_freakles = []\n",
        "labels_glasses = []\n",
        "labels_hair_color = []\n",
        "labels_hair_top = []\n",
        "\n",
        "for i in range(len(file_list)):\n",
        "    labels_wrinkles.append(data['wrinkles'][i])\n",
        "    labels_freakles.append(data['freakles'][i])\n",
        "    labels_glasses.append(data['glasses'][i])\n",
        "    labels_hair_color.append(data['hair_color'][i])\n",
        "    labels_hair_top.append(data['hair_top'][i])"
      ],
      "execution_count": 19,
      "outputs": []
    },
    {
      "cell_type": "code",
      "metadata": {
        "id": "Sga64kJ_atik"
      },
      "source": [
        "# saving the annotation file where image names are mapped with labels\n",
        "df = pd.DataFrame({'image_name':file_list, 'wrinkles':labels_wrinkles, 'freakles':labels_freakles, 'glasses':labels_glasses, 'hair_color':labels_hair_color, 'hair_top':labels_hair_top}, \n",
        "                  columns=['image_name', 'wrinkles', 'freakles','glasses','hair_color','hair_top'])\n",
        "df.to_csv('/content/sample_annotation.csv', index=False)"
      ],
      "execution_count": 20,
      "outputs": []
    },
    {
      "cell_type": "code",
      "metadata": {
        "colab": {
          "base_uri": "https://localhost:8080/",
          "height": 203
        },
        "id": "SDB64juWawoL",
        "outputId": "1ae16f9a-c09a-4bf1-e10d-cba310ac8dc5"
      },
      "source": [
        "df.head()"
      ],
      "execution_count": 21,
      "outputs": [
        {
          "output_type": "execute_result",
          "data": {
            "text/html": [
              "<div>\n",
              "<style scoped>\n",
              "    .dataframe tbody tr th:only-of-type {\n",
              "        vertical-align: middle;\n",
              "    }\n",
              "\n",
              "    .dataframe tbody tr th {\n",
              "        vertical-align: top;\n",
              "    }\n",
              "\n",
              "    .dataframe thead th {\n",
              "        text-align: right;\n",
              "    }\n",
              "</style>\n",
              "<table border=\"1\" class=\"dataframe\">\n",
              "  <thead>\n",
              "    <tr style=\"text-align: right;\">\n",
              "      <th></th>\n",
              "      <th>image_name</th>\n",
              "      <th>wrinkles</th>\n",
              "      <th>freakles</th>\n",
              "      <th>glasses</th>\n",
              "      <th>hair_color</th>\n",
              "      <th>hair_top</th>\n",
              "    </tr>\n",
              "  </thead>\n",
              "  <tbody>\n",
              "    <tr>\n",
              "      <th>0</th>\n",
              "      <td>87.jpg</td>\n",
              "      <td>1</td>\n",
              "      <td>0</td>\n",
              "      <td>0</td>\n",
              "      <td>2</td>\n",
              "      <td>0</td>\n",
              "    </tr>\n",
              "    <tr>\n",
              "      <th>1</th>\n",
              "      <td>110.jpg</td>\n",
              "      <td>1</td>\n",
              "      <td>0</td>\n",
              "      <td>0</td>\n",
              "      <td>2</td>\n",
              "      <td>0</td>\n",
              "    </tr>\n",
              "    <tr>\n",
              "      <th>2</th>\n",
              "      <td>117.jpg</td>\n",
              "      <td>1</td>\n",
              "      <td>1</td>\n",
              "      <td>0</td>\n",
              "      <td>6</td>\n",
              "      <td>2</td>\n",
              "    </tr>\n",
              "    <tr>\n",
              "      <th>3</th>\n",
              "      <td>358.jpg</td>\n",
              "      <td>0</td>\n",
              "      <td>0</td>\n",
              "      <td>0</td>\n",
              "      <td>6</td>\n",
              "      <td>2</td>\n",
              "    </tr>\n",
              "    <tr>\n",
              "      <th>4</th>\n",
              "      <td>389.jpg</td>\n",
              "      <td>0</td>\n",
              "      <td>0</td>\n",
              "      <td>2</td>\n",
              "      <td>6</td>\n",
              "      <td>0</td>\n",
              "    </tr>\n",
              "  </tbody>\n",
              "</table>\n",
              "</div>"
            ],
            "text/plain": [
              "  image_name  wrinkles  freakles  glasses  hair_color  hair_top\n",
              "0     87.jpg         1         0        0           2         0\n",
              "1    110.jpg         1         0        0           2         0\n",
              "2    117.jpg         1         1        0           6         2\n",
              "3    358.jpg         0         0        0           6         2\n",
              "4    389.jpg         0         0        2           6         0"
            ]
          },
          "metadata": {
            "tags": []
          },
          "execution_count": 21
        }
      ]
    },
    {
      "cell_type": "markdown",
      "metadata": {
        "id": "u9be71r_DNXP"
      },
      "source": [
        "Information regarding the proportions for each labels."
      ]
    },
    {
      "cell_type": "code",
      "metadata": {
        "colab": {
          "base_uri": "https://localhost:8080/"
        },
        "id": "vF0jDkY-a5fW",
        "outputId": "9d5ad93e-6b4e-4fe2-e233-92af408d57d2"
      },
      "source": [
        "df  = pd.read_csv('/content/sample_annotation.csv')\n",
        "print('Number of images: ', df.shape[0])\n",
        "print('The proportion of the different wrinkles labels: ')\n",
        "print(df['wrinkles'].value_counts())\n",
        "\n",
        "print('The proportion of the different freakles labels: ')\n",
        "print(df['freakles'].value_counts())\n",
        "\n",
        "print('The proportion of the different glasses labels: ')\n",
        "print(df['glasses'].value_counts())\n",
        "\n",
        "print('The proportion of the different hair_color labels: ')\n",
        "print(df['hair_color'].value_counts())\n",
        "\n",
        "print('The proportion of the different hair_top labels: ')\n",
        "print(df['hair_top'].value_counts())\n"
      ],
      "execution_count": 22,
      "outputs": [
        {
          "output_type": "stream",
          "text": [
            "Number of images:  1991\n",
            "The proportion of the different wrinkles labels: \n",
            "0    1631\n",
            "1     360\n",
            "Name: wrinkles, dtype: int64\n",
            "The proportion of the different freakles labels: \n",
            "0    1944\n",
            "1      47\n",
            "Name: freakles, dtype: int64\n",
            "The proportion of the different glasses labels: \n",
            "0    1779\n",
            "1     185\n",
            "2      27\n",
            "Name: glasses, dtype: int64\n",
            "The proportion of the different hair_color labels: \n",
            "1    791\n",
            "0    467\n",
            "3    279\n",
            "2    190\n",
            "8     91\n",
            "5     81\n",
            "6     46\n",
            "7     27\n",
            "4     19\n",
            "Name: hair_color, dtype: int64\n",
            "The proportion of the different hair_top labels: \n",
            "2    1451\n",
            "1     212\n",
            "3     167\n",
            "0     161\n",
            "Name: hair_top, dtype: int64\n"
          ],
          "name": "stdout"
        }
      ]
    },
    {
      "cell_type": "code",
      "metadata": {
        "id": "obPQCpe5bAfL"
      },
      "source": [
        "image_list = [] # this list will hold all the images\n",
        "#for i in range(1):\n",
        "for i in range(df.shape[0]): # read the image one by one\n",
        "    image = cv2.imread(dir_struct+df.iloc[i]['image_name'])\n",
        "    image = cv2.cvtColor(image, cv2.COLOR_BGR2RGB) # BGR to RGB convert\n",
        "    image = cv2.resize(image, (32,32), interpolation = cv2.INTER_AREA) # resizing all images to 32x32: NOT ideal but need to be uniform in order to apply the algorithm\n",
        "                                                                                                                        # this actually ensures all the features [pixel values] will be of same size\n",
        "    image_list.append(image) # appending the read image to a list"
      ],
      "execution_count": 23,
      "outputs": []
    },
    {
      "cell_type": "code",
      "metadata": {
        "id": "Ixw8PUn2bFjL"
      },
      "source": [
        "df['image'] = image_list # creating a new column that holds all the images"
      ],
      "execution_count": 24,
      "outputs": []
    },
    {
      "cell_type": "markdown",
      "metadata": {
        "id": "wLugNWQ5Dr8h"
      },
      "source": [
        "### Facial Attribute 1 - Wrinkles"
      ]
    },
    {
      "cell_type": "code",
      "metadata": {
        "id": "mrgQOhgKblpt"
      },
      "source": [
        "# Data splitting\n",
        "X = np.array(image_list)\n",
        "Y = np.array(df['wrinkles'])\n",
        "train_images, test_images, train_labels, test_labels = train_test_split(X, Y, test_size=0.2, random_state=42)"
      ],
      "execution_count": 25,
      "outputs": []
    },
    {
      "cell_type": "code",
      "metadata": {
        "colab": {
          "base_uri": "https://localhost:8080/"
        },
        "id": "TduM9020cWHb",
        "outputId": "00d712e9-3afa-4c94-b82a-e122c316918b"
      },
      "source": [
        "print('Training dataset shape: {}'.format(train_images.shape))\n",
        "print('Testing dataset shape: {}'.format(test_images.shape))"
      ],
      "execution_count": null,
      "outputs": [
        {
          "output_type": "stream",
          "text": [
            "Training dataset shape: (1592, 32, 32, 3)\n",
            "Testing dataset shape: (399, 32, 32, 3)\n"
          ],
          "name": "stdout"
        }
      ]
    },
    {
      "cell_type": "code",
      "metadata": {
        "id": "0P5iM1ohdDnD"
      },
      "source": [
        "# Normalize the data\n",
        "train_images, test_images = train_images / 255.0, test_images / 255.0"
      ],
      "execution_count": 26,
      "outputs": []
    },
    {
      "cell_type": "markdown",
      "metadata": {
        "id": "CDFpEG4CdSwL"
      },
      "source": [
        "### Model - 1"
      ]
    },
    {
      "cell_type": "code",
      "metadata": {
        "colab": {
          "base_uri": "https://localhost:8080/"
        },
        "id": "7kQZAK5vdVI4",
        "outputId": "32b1859f-eb9b-4384-d950-7abae5217896"
      },
      "source": [
        "model_1 = models.Sequential()\n",
        "\n",
        "model_1.add(layers.Conv2D(filters=64,kernel_size=(3,3),padding=\"same\", activation=\"relu\", input_shape=(32,32,3)))\n",
        "model_1.add(layers.Conv2D(filters=64,kernel_size=(3,3),padding=\"same\", activation=\"relu\"))\n",
        "model_1.add(layers.MaxPool2D(pool_size=(2,2),strides=(2,2)))  ## END BLOCK 1\n",
        "model_1.add(layers.Conv2D(filters=128,kernel_size=(3,3),padding=\"same\", activation=\"relu\"))\n",
        "model_1.add(layers.Conv2D(filters=128,kernel_size=(3,3),padding=\"same\", activation=\"relu\"))\n",
        "model_1.add(layers.MaxPool2D(pool_size=(2,2),strides=(2,2)))   ## END BLOCK 2\n",
        "model_1.add(layers.Conv2D(filters=256,kernel_size=(3,3),padding=\"same\", activation=\"relu\"))\n",
        "model_1.add(layers.Conv2D(filters=256,kernel_size=(3,3),padding=\"same\", activation=\"relu\"))\n",
        "model_1.add(layers.Conv2D(filters=256,kernel_size=(3,3),padding=\"same\", activation=\"relu\"))\n",
        "model_1.add(layers.MaxPool2D(pool_size=(2,2),strides=(2,2)))    ## END BLOCK 3 \n",
        "model_1.add(layers.Conv2D(filters=512,kernel_size=(3,3),padding=\"same\", activation=\"relu\"))\n",
        "model_1.add(layers.Conv2D(filters=512,kernel_size=(3,3),padding=\"same\", activation=\"relu\"))\n",
        "model_1.add(layers.Conv2D(filters=512,kernel_size=(3,3),padding=\"same\", activation=\"relu\"))\n",
        "model_1.add(layers.MaxPool2D(pool_size=(2,2),strides=(2,2)))    ## END BLOCK 4 \n",
        "model_1.add(layers.Conv2D(filters=512,kernel_size=(3,3),padding=\"same\", activation=\"relu\"))\n",
        "model_1.add(layers.Conv2D(filters=512,kernel_size=(3,3),padding=\"same\", activation=\"relu\"))\n",
        "model_1.add(layers.Conv2D(filters=512,kernel_size=(3,3),padding=\"same\", activation=\"relu\"))\n",
        "model_1.add(layers.MaxPool2D(pool_size=(2,2),strides=(2,2)))    ## END BLOCK 5 \n",
        "model_1.add(layers.Flatten())    ## converting to vector \n",
        "model_1.add(layers.Dense(4096, activation=\"relu\"))    ## 1st FC layer \n",
        "model_1.add(layers.Dense(4096, activation=\"relu\"))    ## 2st FC layer \n",
        "model_1.add(layers.Dense(10, activation=\"softmax\"))    ## output layer \n",
        "\n",
        "\n",
        "model_1.compile(optimizers.Adam(learning_rate=0.0001),\n",
        "              loss=tf.keras.losses.SparseCategoricalCrossentropy(),\n",
        "              metrics=['accuracy'])\n",
        "\n",
        "model_1.summary()"
      ],
      "execution_count": 28,
      "outputs": [
        {
          "output_type": "stream",
          "text": [
            "Model: \"sequential_1\"\n",
            "_________________________________________________________________\n",
            "Layer (type)                 Output Shape              Param #   \n",
            "=================================================================\n",
            "conv2d_13 (Conv2D)           (None, 32, 32, 64)        1792      \n",
            "_________________________________________________________________\n",
            "conv2d_14 (Conv2D)           (None, 32, 32, 64)        36928     \n",
            "_________________________________________________________________\n",
            "max_pooling2d_5 (MaxPooling2 (None, 16, 16, 64)        0         \n",
            "_________________________________________________________________\n",
            "conv2d_15 (Conv2D)           (None, 16, 16, 128)       73856     \n",
            "_________________________________________________________________\n",
            "conv2d_16 (Conv2D)           (None, 16, 16, 128)       147584    \n",
            "_________________________________________________________________\n",
            "max_pooling2d_6 (MaxPooling2 (None, 8, 8, 128)         0         \n",
            "_________________________________________________________________\n",
            "conv2d_17 (Conv2D)           (None, 8, 8, 256)         295168    \n",
            "_________________________________________________________________\n",
            "conv2d_18 (Conv2D)           (None, 8, 8, 256)         590080    \n",
            "_________________________________________________________________\n",
            "conv2d_19 (Conv2D)           (None, 8, 8, 256)         590080    \n",
            "_________________________________________________________________\n",
            "max_pooling2d_7 (MaxPooling2 (None, 4, 4, 256)         0         \n",
            "_________________________________________________________________\n",
            "conv2d_20 (Conv2D)           (None, 4, 4, 512)         1180160   \n",
            "_________________________________________________________________\n",
            "conv2d_21 (Conv2D)           (None, 4, 4, 512)         2359808   \n",
            "_________________________________________________________________\n",
            "conv2d_22 (Conv2D)           (None, 4, 4, 512)         2359808   \n",
            "_________________________________________________________________\n",
            "max_pooling2d_8 (MaxPooling2 (None, 2, 2, 512)         0         \n",
            "_________________________________________________________________\n",
            "conv2d_23 (Conv2D)           (None, 2, 2, 512)         2359808   \n",
            "_________________________________________________________________\n",
            "conv2d_24 (Conv2D)           (None, 2, 2, 512)         2359808   \n",
            "_________________________________________________________________\n",
            "conv2d_25 (Conv2D)           (None, 2, 2, 512)         2359808   \n",
            "_________________________________________________________________\n",
            "max_pooling2d_9 (MaxPooling2 (None, 1, 1, 512)         0         \n",
            "_________________________________________________________________\n",
            "flatten_1 (Flatten)          (None, 512)               0         \n",
            "_________________________________________________________________\n",
            "dense_3 (Dense)              (None, 4096)              2101248   \n",
            "_________________________________________________________________\n",
            "dense_4 (Dense)              (None, 4096)              16781312  \n",
            "_________________________________________________________________\n",
            "dense_5 (Dense)              (None, 10)                40970     \n",
            "=================================================================\n",
            "Total params: 33,638,218\n",
            "Trainable params: 33,638,218\n",
            "Non-trainable params: 0\n",
            "_________________________________________________________________\n"
          ],
          "name": "stdout"
        }
      ]
    },
    {
      "cell_type": "markdown",
      "metadata": {
        "id": "j99Bkx97djxZ"
      },
      "source": [
        "### Training model-1"
      ]
    },
    {
      "cell_type": "code",
      "metadata": {
        "colab": {
          "base_uri": "https://localhost:8080/",
          "height": 676
        },
        "id": "EHQmvDlCdgAz",
        "outputId": "4ad14fb4-0f46-4b20-b1bd-f1af5d17e586"
      },
      "source": [
        "# define the checkpoint\n",
        "filepath = \"Model_1-{epoch:02d}-{val_accuracy:.4f}.h5\"\n",
        "checkpoint = ModelCheckpoint(  \n",
        "    filepath,\n",
        "    monitor=\"val_accuracy\",\n",
        "    verbose=1,\n",
        "    save_best_only=False,\n",
        "    save_weights_only=False,\n",
        "    mode=\"auto\",\n",
        "    save_freq=\"epoch\")\n",
        "\n",
        "callbacks_list = [checkpoint]\n",
        "\n",
        "# Training\n",
        "history = model_1.fit(train_images, train_labels, epochs=5, batch_size=512,\n",
        "                    validation_data=(test_images, test_labels), callbacks=callbacks_list)\n",
        "\n",
        "# Validation\n",
        "plt.plot(history.history['accuracy'], label='accuracy')\n",
        "plt.plot(history.history['val_accuracy'], label = 'val_accuracy')\n",
        "plt.xlabel('Epoch')\n",
        "plt.ylabel('Accuracy')\n",
        "plt.ylim([0.5, 1])\n",
        "plt.legend(loc='lower right')\n",
        "\n",
        "test_loss, test_acc = model_1.evaluate(test_images,  test_labels, verbose=2)\n",
        "\n",
        "print(test_acc)"
      ],
      "execution_count": null,
      "outputs": [
        {
          "output_type": "stream",
          "text": [
            "Epoch 1/5\n",
            "4/4 [==============================] - 147s 34s/step - loss: 0.6163 - accuracy: 0.8197 - val_loss: 0.6967 - val_accuracy: 0.8170\n",
            "\n",
            "Epoch 00001: saving model to Model_1-01-0.8170.h5\n",
            "Epoch 2/5\n",
            "4/4 [==============================] - 146s 33s/step - loss: 0.6492 - accuracy: 0.8197 - val_loss: 0.5005 - val_accuracy: 0.8170\n",
            "\n",
            "Epoch 00002: saving model to Model_1-02-0.8170.h5\n",
            "Epoch 3/5\n",
            "4/4 [==============================] - 139s 31s/step - loss: 0.4852 - accuracy: 0.8197 - val_loss: 0.4859 - val_accuracy: 0.8170\n",
            "\n",
            "Epoch 00003: saving model to Model_1-03-0.8170.h5\n",
            "Epoch 4/5\n",
            "4/4 [==============================] - 132s 30s/step - loss: 0.4756 - accuracy: 0.8197 - val_loss: 0.4837 - val_accuracy: 0.8170\n",
            "\n",
            "Epoch 00004: saving model to Model_1-04-0.8170.h5\n",
            "Epoch 5/5\n",
            "4/4 [==============================] - 130s 30s/step - loss: 0.4763 - accuracy: 0.8197 - val_loss: 0.4838 - val_accuracy: 0.8170\n",
            "\n",
            "Epoch 00005: saving model to Model_1-05-0.8170.h5\n",
            "13/13 - 3s - loss: 0.4838 - accuracy: 0.8170\n",
            "0.8170425891876221\n"
          ],
          "name": "stdout"
        },
        {
          "output_type": "display_data",
          "data": {
            "image/png": "[encoded data removed]",
            "text/plain": [
              "<Figure size 432x288 with 1 Axes>"
            ]
          },
          "metadata": {
            "tags": [],
            "needs_background": "light"
          }
        }
      ]
    },
    {
      "cell_type": "code",
      "metadata": {
        "colab": {
          "base_uri": "https://localhost:8080/"
        },
        "id": "wPugeVfppclQ",
        "outputId": "5e98de6c-4f3f-47ed-f98b-41fc0607f314"
      },
      "source": [
        "\n",
        "#specify the saved model from before\n",
        "filepath = \"/content/Model_1-05-0.8170.h5\"\n",
        "\n",
        "# load the model\n",
        "new_model = load_model(filepath)\n",
        "\n",
        "y_pred1 = new_model.predict(test_images)\n",
        "y_pred = np.argmax(y_pred1, axis=1)\n",
        "\n",
        "print(classification_report(test_labels, y_pred))\n",
        "\n",
        "# Print f1, precision, and recall scores\n",
        "print(precision_score(test_labels, y_pred , average=\"macro\"))\n",
        "print(recall_score(test_labels, y_pred , average=\"macro\"))\n",
        "\n",
        "print(f1_score(test_labels, y_pred , average=\"macro\"))\n",
        "print(f1_score(test_labels, y_pred , average=\"micro\"))\n",
        "print(f1_score(test_labels, y_pred , average=\"weighted\"))"
      ],
      "execution_count": 29,
      "outputs": [
        {
          "output_type": "stream",
          "text": [
            "              precision    recall  f1-score   support\n",
            "\n",
            "           0       0.82      1.00      0.90       326\n",
            "           1       0.00      0.00      0.00        73\n",
            "\n",
            "    accuracy                           0.82       399\n",
            "   macro avg       0.41      0.50      0.45       399\n",
            "weighted avg       0.67      0.82      0.73       399\n",
            "\n",
            "0.40852130325814534\n",
            "0.5\n",
            "0.44965517241379305\n",
            "0.8170426065162907\n",
            "0.7347748682049952\n"
          ],
          "name": "stdout"
        },
        {
          "output_type": "stream",
          "text": [
            "/usr/local/lib/python3.7/dist-packages/sklearn/metrics/_classification.py:1272: UndefinedMetricWarning: Precision and F-score are ill-defined and being set to 0.0 in labels with no predicted samples. Use `zero_division` parameter to control this behavior.\n",
            "  _warn_prf(average, modifier, msg_start, len(result))\n",
            "/usr/local/lib/python3.7/dist-packages/sklearn/metrics/_classification.py:1272: UndefinedMetricWarning: Precision is ill-defined and being set to 0.0 in labels with no predicted samples. Use `zero_division` parameter to control this behavior.\n",
            "  _warn_prf(average, modifier, msg_start, len(result))\n"
          ],
          "name": "stderr"
        }
      ]
    },
    {
      "cell_type": "markdown",
      "metadata": {
        "id": "r4ChIdLkMuAn"
      },
      "source": [
        "### Facial attribute 2 - Freakles"
      ]
    },
    {
      "cell_type": "code",
      "metadata": {
        "id": "rG0rjutxNA0f"
      },
      "source": [
        "# Data splitting\n",
        "X = np.array(image_list)\n",
        "Y = np.array(df['freakles'])\n",
        "train_images, test_images, train_labels, test_labels = train_test_split(X, Y, test_size=0.2, random_state=42)"
      ],
      "execution_count": null,
      "outputs": []
    },
    {
      "cell_type": "code",
      "metadata": {
        "colab": {
          "base_uri": "https://localhost:8080/"
        },
        "id": "l7A4R0KfNH3F",
        "outputId": "1ad4113a-ca09-4e9c-c960-438fa53ed593"
      },
      "source": [
        "print('Training dataset shape: {}'.format(train_images.shape))\n",
        "print('Testing dataset shape: {}'.format(test_images.shape))"
      ],
      "execution_count": null,
      "outputs": [
        {
          "output_type": "stream",
          "text": [
            "Training dataset shape: (1592, 32, 32, 3)\n",
            "Testing dataset shape: (399, 32, 32, 3)\n"
          ],
          "name": "stdout"
        }
      ]
    },
    {
      "cell_type": "code",
      "metadata": {
        "id": "LXRTzINoNJwZ"
      },
      "source": [
        "# Normalize the data\n",
        "train_images, test_images = train_images / 255.0, test_images / 255.0"
      ],
      "execution_count": null,
      "outputs": []
    },
    {
      "cell_type": "markdown",
      "metadata": {
        "id": "JtiP6DhoNLP7"
      },
      "source": [
        "### Model - 2 "
      ]
    },
    {
      "cell_type": "code",
      "metadata": {
        "colab": {
          "base_uri": "https://localhost:8080/"
        },
        "id": "qMhOgHvGNauD",
        "outputId": "113a7978-12f0-46d2-c86f-d55ee301c6a7"
      },
      "source": [
        "model_2 = models.Sequential()\n",
        "\n",
        "model_2.add(layers.Conv2D(filters=64,kernel_size=(3,3),padding=\"same\", activation=\"relu\", input_shape=(32,32,3)))\n",
        "model_2.add(layers.Conv2D(filters=64,kernel_size=(3,3),padding=\"same\", activation=\"relu\"))\n",
        "model_2.add(layers.MaxPool2D(pool_size=(2,2),strides=(2,2)))  ## END BLOCK 1\n",
        "model_2.add(layers.Conv2D(filters=128,kernel_size=(3,3),padding=\"same\", activation=\"relu\"))\n",
        "model_2.add(layers.Conv2D(filters=128,kernel_size=(3,3),padding=\"same\", activation=\"relu\"))\n",
        "model_2.add(layers.MaxPool2D(pool_size=(2,2),strides=(2,2)))   ## END BLOCK 2\n",
        "model_2.add(layers.Conv2D(filters=256,kernel_size=(3,3),padding=\"same\", activation=\"relu\"))\n",
        "model_2.add(layers.Conv2D(filters=256,kernel_size=(3,3),padding=\"same\", activation=\"relu\"))\n",
        "model_2.add(layers.Conv2D(filters=256,kernel_size=(3,3),padding=\"same\", activation=\"relu\"))\n",
        "model_2.add(layers.MaxPool2D(pool_size=(2,2),strides=(2,2)))    ## END BLOCK 3 \n",
        "model_2.add(layers.Conv2D(filters=512,kernel_size=(3,3),padding=\"same\", activation=\"relu\"))\n",
        "model_2.add(layers.Conv2D(filters=512,kernel_size=(3,3),padding=\"same\", activation=\"relu\"))\n",
        "model_2.add(layers.Conv2D(filters=512,kernel_size=(3,3),padding=\"same\", activation=\"relu\"))\n",
        "model_2.add(layers.MaxPool2D(pool_size=(2,2),strides=(2,2)))    ## END BLOCK 4 \n",
        "model_2.add(layers.Conv2D(filters=512,kernel_size=(3,3),padding=\"same\", activation=\"relu\"))\n",
        "model_2.add(layers.Conv2D(filters=512,kernel_size=(3,3),padding=\"same\", activation=\"relu\"))\n",
        "model_2.add(layers.Conv2D(filters=512,kernel_size=(3,3),padding=\"same\", activation=\"relu\"))\n",
        "model_2.add(layers.MaxPool2D(pool_size=(2,2),strides=(2,2)))    ## END BLOCK 5 \n",
        "model_2.add(layers.Flatten())    ## converting to vector \n",
        "model_2.add(layers.Dense(4096, activation=\"relu\"))    ## 1st FC layer \n",
        "model_2.add(layers.Dense(4096, activation=\"relu\"))    ## 2st FC layer \n",
        "model_2.add(layers.Dense(10, activation=\"softmax\"))    ## output layer \n",
        "\n",
        "\n",
        "model_2.compile(optimizers.Adam(learning_rate=0.0001),\n",
        "              loss=tf.keras.losses.SparseCategoricalCrossentropy(),\n",
        "              metrics=['accuracy'])\n",
        "\n",
        "model_2.summary()"
      ],
      "execution_count": null,
      "outputs": [
        {
          "output_type": "stream",
          "text": [
            "Model: \"sequential_2\"\n",
            "_________________________________________________________________\n",
            "Layer (type)                 Output Shape              Param #   \n",
            "=================================================================\n",
            "conv2d_26 (Conv2D)           (None, 32, 32, 64)        1792      \n",
            "_________________________________________________________________\n",
            "conv2d_27 (Conv2D)           (None, 32, 32, 64)        36928     \n",
            "_________________________________________________________________\n",
            "max_pooling2d_10 (MaxPooling (None, 16, 16, 64)        0         \n",
            "_________________________________________________________________\n",
            "conv2d_28 (Conv2D)           (None, 16, 16, 128)       73856     \n",
            "_________________________________________________________________\n",
            "conv2d_29 (Conv2D)           (None, 16, 16, 128)       147584    \n",
            "_________________________________________________________________\n",
            "max_pooling2d_11 (MaxPooling (None, 8, 8, 128)         0         \n",
            "_________________________________________________________________\n",
            "conv2d_30 (Conv2D)           (None, 8, 8, 256)         295168    \n",
            "_________________________________________________________________\n",
            "conv2d_31 (Conv2D)           (None, 8, 8, 256)         590080    \n",
            "_________________________________________________________________\n",
            "conv2d_32 (Conv2D)           (None, 8, 8, 256)         590080    \n",
            "_________________________________________________________________\n",
            "max_pooling2d_12 (MaxPooling (None, 4, 4, 256)         0         \n",
            "_________________________________________________________________\n",
            "conv2d_33 (Conv2D)           (None, 4, 4, 512)         1180160   \n",
            "_________________________________________________________________\n",
            "conv2d_34 (Conv2D)           (None, 4, 4, 512)         2359808   \n",
            "_________________________________________________________________\n",
            "conv2d_35 (Conv2D)           (None, 4, 4, 512)         2359808   \n",
            "_________________________________________________________________\n",
            "max_pooling2d_13 (MaxPooling (None, 2, 2, 512)         0         \n",
            "_________________________________________________________________\n",
            "conv2d_36 (Conv2D)           (None, 2, 2, 512)         2359808   \n",
            "_________________________________________________________________\n",
            "conv2d_37 (Conv2D)           (None, 2, 2, 512)         2359808   \n",
            "_________________________________________________________________\n",
            "conv2d_38 (Conv2D)           (None, 2, 2, 512)         2359808   \n",
            "_________________________________________________________________\n",
            "max_pooling2d_14 (MaxPooling (None, 1, 1, 512)         0         \n",
            "_________________________________________________________________\n",
            "flatten_2 (Flatten)          (None, 512)               0         \n",
            "_________________________________________________________________\n",
            "dense_6 (Dense)              (None, 4096)              2101248   \n",
            "_________________________________________________________________\n",
            "dense_7 (Dense)              (None, 4096)              16781312  \n",
            "_________________________________________________________________\n",
            "dense_8 (Dense)              (None, 10)                40970     \n",
            "=================================================================\n",
            "Total params: 33,638,218\n",
            "Trainable params: 33,638,218\n",
            "Non-trainable params: 0\n",
            "_________________________________________________________________\n"
          ],
          "name": "stdout"
        }
      ]
    },
    {
      "cell_type": "markdown",
      "metadata": {
        "id": "lkBNop5INntc"
      },
      "source": [
        "### Training model - 2"
      ]
    },
    {
      "cell_type": "code",
      "metadata": {
        "colab": {
          "base_uri": "https://localhost:8080/",
          "height": 676
        },
        "id": "V1j62FlENu2y",
        "outputId": "aa6f3635-a47d-47f0-ff20-50f52540bc4f"
      },
      "source": [
        "# define the checkpoint\n",
        "filepath = \"Model_2-{epoch:02d}-{val_accuracy:.4f}.h5\"\n",
        "checkpoint = ModelCheckpoint(  \n",
        "    filepath,\n",
        "    monitor=\"val_accuracy\",\n",
        "    verbose=1,\n",
        "    save_best_only=False,\n",
        "    save_weights_only=False,\n",
        "    mode=\"auto\",\n",
        "    save_freq=\"epoch\")\n",
        "\n",
        "callbacks_list = [checkpoint]\n",
        "\n",
        "# Training\n",
        "history = model_2.fit(train_images, train_labels, epochs=5, batch_size=512,\n",
        "                    validation_data=(test_images, test_labels), callbacks=callbacks_list)\n",
        "\n",
        "# Validation\n",
        "plt.plot(history.history['accuracy'], label='accuracy')\n",
        "plt.plot(history.history['val_accuracy'], label = 'val_accuracy')\n",
        "plt.xlabel('Epoch')\n",
        "plt.ylabel('Accuracy')\n",
        "plt.ylim([0.5, 1])\n",
        "plt.legend(loc='lower right')\n",
        "\n",
        "test_loss, test_acc = model_2.evaluate(test_images,  test_labels, verbose=2)\n",
        "\n",
        "print(test_acc)"
      ],
      "execution_count": null,
      "outputs": [
        {
          "output_type": "stream",
          "text": [
            "Epoch 1/5\n",
            "4/4 [==============================] - 155s 36s/step - loss: 2.2949 - accuracy: 0.4934 - val_loss: 2.1399 - val_accuracy: 0.9774\n",
            "\n",
            "Epoch 00001: saving model to Model_2-01-0.9774.h5\n",
            "Epoch 2/5\n",
            "4/4 [==============================] - 141s 31s/step - loss: 1.8917 - accuracy: 0.9767 - val_loss: 0.1631 - val_accuracy: 0.9774\n",
            "\n",
            "Epoch 00002: saving model to Model_2-02-0.9774.h5\n",
            "Epoch 3/5\n",
            "4/4 [==============================] - 135s 31s/step - loss: 0.3436 - accuracy: 0.9771 - val_loss: 0.5756 - val_accuracy: 0.9774\n",
            "\n",
            "Epoch 00003: saving model to Model_2-03-0.9774.h5\n",
            "Epoch 4/5\n",
            "4/4 [==============================] - 146s 34s/step - loss: 0.6831 - accuracy: 0.9747 - val_loss: 0.1718 - val_accuracy: 0.9774\n",
            "\n",
            "Epoch 00004: saving model to Model_2-04-0.9774.h5\n",
            "Epoch 5/5\n",
            "4/4 [==============================] - 148s 34s/step - loss: 0.1801 - accuracy: 0.9765 - val_loss: 0.2935 - val_accuracy: 0.9774\n",
            "\n",
            "Epoch 00005: saving model to Model_2-05-0.9774.h5\n",
            "13/13 - 3s - loss: 0.2935 - accuracy: 0.9774\n",
            "0.9774436354637146\n"
          ],
          "name": "stdout"
        },
        {
          "output_type": "display_data",
          "data": {
            "image/png": "[encoded data removed]",
            "text/plain": [
              "<Figure size 432x288 with 1 Axes>"
            ]
          },
          "metadata": {
            "tags": [],
            "needs_background": "light"
          }
        }
      ]
    },
    {
      "cell_type": "code",
      "metadata": {
        "colab": {
          "base_uri": "https://localhost:8080/"
        },
        "id": "VJSz5ZuIN3I8",
        "outputId": "484da652-1b65-4faf-88c1-07c590f5772b"
      },
      "source": [
        "\n",
        "#specify the saved model from before\n",
        "filepath = \"/content/Model_2-05-0.9774.h5\"\n",
        "\n",
        "# load the model\n",
        "new_model = load_model(filepath)\n",
        "\n",
        "y_pred1 = new_model.predict(test_images)\n",
        "y_pred = np.argmax(y_pred1, axis=1)\n",
        "\n",
        "print(classification_report(test_labels, y_pred))\n",
        "\n",
        "# Print f1, precision, and recall scores\n",
        "print(precision_score(test_labels, y_pred , average=\"macro\"))\n",
        "print(recall_score(test_labels, y_pred , average=\"macro\"))\n",
        "\n",
        "print(f1_score(test_labels, y_pred , average=\"macro\"))\n",
        "print(f1_score(test_labels, y_pred , average=\"micro\"))\n",
        "print(f1_score(test_labels, y_pred , average=\"weighted\"))"
      ],
      "execution_count": null,
      "outputs": [
        {
          "output_type": "stream",
          "text": [
            "              precision    recall  f1-score   support\n",
            "\n",
            "           0       0.98      1.00      0.99       390\n",
            "           1       0.00      0.00      0.00         9\n",
            "\n",
            "    accuracy                           0.98       399\n",
            "   macro avg       0.49      0.50      0.49       399\n",
            "weighted avg       0.96      0.98      0.97       399\n",
            "\n",
            "0.48872180451127817\n",
            "0.5\n",
            "0.494296577946768\n",
            "0.9774436090225563\n",
            "0.9662940621515765\n"
          ],
          "name": "stdout"
        },
        {
          "output_type": "stream",
          "text": [
            "/usr/local/lib/python3.7/dist-packages/sklearn/metrics/_classification.py:1272: UndefinedMetricWarning: Precision and F-score are ill-defined and being set to 0.0 in labels with no predicted samples. Use `zero_division` parameter to control this behavior.\n",
            "  _warn_prf(average, modifier, msg_start, len(result))\n",
            "/usr/local/lib/python3.7/dist-packages/sklearn/metrics/_classification.py:1272: UndefinedMetricWarning: Precision is ill-defined and being set to 0.0 in labels with no predicted samples. Use `zero_division` parameter to control this behavior.\n",
            "  _warn_prf(average, modifier, msg_start, len(result))\n"
          ],
          "name": "stderr"
        }
      ]
    },
    {
      "cell_type": "markdown",
      "metadata": {
        "id": "8VHceXBhN7jo"
      },
      "source": [
        "### Facial attribute 3 - Glasses"
      ]
    },
    {
      "cell_type": "code",
      "metadata": {
        "id": "DB_YtxOpOBIz"
      },
      "source": [
        "# Data splitting\n",
        "X = np.array(image_list)\n",
        "Y = np.array(df['glasses'])\n",
        "train_images, test_images, train_labels, test_labels = train_test_split(X, Y, test_size=0.2, random_state=42)"
      ],
      "execution_count": null,
      "outputs": []
    },
    {
      "cell_type": "code",
      "metadata": {
        "colab": {
          "base_uri": "https://localhost:8080/"
        },
        "id": "Mmjl8-kwOMS3",
        "outputId": "c49e9b58-a045-43c9-ad0c-1a6f65a9de31"
      },
      "source": [
        "print('Training dataset shape: {}'.format(train_images.shape))\n",
        "print('Testing dataset shape: {}'.format(test_images.shape))"
      ],
      "execution_count": null,
      "outputs": [
        {
          "output_type": "stream",
          "text": [
            "Training dataset shape: (1592, 32, 32, 3)\n",
            "Testing dataset shape: (399, 32, 32, 3)\n"
          ],
          "name": "stdout"
        }
      ]
    },
    {
      "cell_type": "code",
      "metadata": {
        "id": "2njlx7cTOO3B"
      },
      "source": [
        "# Normalize the data\n",
        "train_images, test_images = train_images / 255.0, test_images / 255.0"
      ],
      "execution_count": null,
      "outputs": []
    },
    {
      "cell_type": "markdown",
      "metadata": {
        "id": "iLAC4jYOOQe2"
      },
      "source": [
        "### Model - 3"
      ]
    },
    {
      "cell_type": "code",
      "metadata": {
        "colab": {
          "base_uri": "https://localhost:8080/"
        },
        "id": "2iUVFAJQOTUt",
        "outputId": "5fc50bce-15f7-437a-c5b3-2a82632daa58"
      },
      "source": [
        "model_3 = models.Sequential()\n",
        "\n",
        "model_3.add(layers.Conv2D(filters=64,kernel_size=(3,3),padding=\"same\", activation=\"relu\", input_shape=(32,32,3)))\n",
        "model_3.add(layers.Conv2D(filters=64,kernel_size=(3,3),padding=\"same\", activation=\"relu\"))\n",
        "model_3.add(layers.MaxPool2D(pool_size=(2,2),strides=(2,2)))  ## END BLOCK 1\n",
        "model_3.add(layers.Conv2D(filters=128,kernel_size=(3,3),padding=\"same\", activation=\"relu\"))\n",
        "model_3.add(layers.Conv2D(filters=128,kernel_size=(3,3),padding=\"same\", activation=\"relu\"))\n",
        "model_3.add(layers.MaxPool2D(pool_size=(2,2),strides=(2,2)))   ## END BLOCK 2\n",
        "model_3.add(layers.Conv2D(filters=256,kernel_size=(3,3),padding=\"same\", activation=\"relu\"))\n",
        "model_3.add(layers.Conv2D(filters=256,kernel_size=(3,3),padding=\"same\", activation=\"relu\"))\n",
        "model_3.add(layers.Conv2D(filters=256,kernel_size=(3,3),padding=\"same\", activation=\"relu\"))\n",
        "model_3.add(layers.MaxPool2D(pool_size=(2,2),strides=(2,2)))    ## END BLOCK 3 \n",
        "model_3.add(layers.Conv2D(filters=512,kernel_size=(3,3),padding=\"same\", activation=\"relu\"))\n",
        "model_3.add(layers.Conv2D(filters=512,kernel_size=(3,3),padding=\"same\", activation=\"relu\"))\n",
        "model_3.add(layers.Conv2D(filters=512,kernel_size=(3,3),padding=\"same\", activation=\"relu\"))\n",
        "model_3.add(layers.MaxPool2D(pool_size=(2,2),strides=(2,2)))    ## END BLOCK 4 \n",
        "model_3.add(layers.Conv2D(filters=512,kernel_size=(3,3),padding=\"same\", activation=\"relu\"))\n",
        "model_3.add(layers.Conv2D(filters=512,kernel_size=(3,3),padding=\"same\", activation=\"relu\"))\n",
        "model_3.add(layers.Conv2D(filters=512,kernel_size=(3,3),padding=\"same\", activation=\"relu\"))\n",
        "model_3.add(layers.MaxPool2D(pool_size=(2,2),strides=(2,2)))    ## END BLOCK 5 \n",
        "model_3.add(layers.Flatten())    ## converting to vector \n",
        "model_3.add(layers.Dense(4096, activation=\"relu\"))    ## 1st FC layer \n",
        "model_3.add(layers.Dense(4096, activation=\"relu\"))    ## 2st FC layer \n",
        "model_3.add(layers.Dense(10, activation=\"softmax\"))    ## output layer \n",
        "\n",
        "\n",
        "model_3.compile(optimizers.Adam(learning_rate=0.0001),\n",
        "              loss=tf.keras.losses.SparseCategoricalCrossentropy(),\n",
        "              metrics=['accuracy'])\n",
        "\n",
        "model_3.summary()"
      ],
      "execution_count": null,
      "outputs": [
        {
          "output_type": "stream",
          "text": [
            "Model: \"sequential_3\"\n",
            "_________________________________________________________________\n",
            "Layer (type)                 Output Shape              Param #   \n",
            "=================================================================\n",
            "conv2d_39 (Conv2D)           (None, 32, 32, 64)        1792      \n",
            "_________________________________________________________________\n",
            "conv2d_40 (Conv2D)           (None, 32, 32, 64)        36928     \n",
            "_________________________________________________________________\n",
            "max_pooling2d_15 (MaxPooling (None, 16, 16, 64)        0         \n",
            "_________________________________________________________________\n",
            "conv2d_41 (Conv2D)           (None, 16, 16, 128)       73856     \n",
            "_________________________________________________________________\n",
            "conv2d_42 (Conv2D)           (None, 16, 16, 128)       147584    \n",
            "_________________________________________________________________\n",
            "max_pooling2d_16 (MaxPooling (None, 8, 8, 128)         0         \n",
            "_________________________________________________________________\n",
            "conv2d_43 (Conv2D)           (None, 8, 8, 256)         295168    \n",
            "_________________________________________________________________\n",
            "conv2d_44 (Conv2D)           (None, 8, 8, 256)         590080    \n",
            "_________________________________________________________________\n",
            "conv2d_45 (Conv2D)           (None, 8, 8, 256)         590080    \n",
            "_________________________________________________________________\n",
            "max_pooling2d_17 (MaxPooling (None, 4, 4, 256)         0         \n",
            "_________________________________________________________________\n",
            "conv2d_46 (Conv2D)           (None, 4, 4, 512)         1180160   \n",
            "_________________________________________________________________\n",
            "conv2d_47 (Conv2D)           (None, 4, 4, 512)         2359808   \n",
            "_________________________________________________________________\n",
            "conv2d_48 (Conv2D)           (None, 4, 4, 512)         2359808   \n",
            "_________________________________________________________________\n",
            "max_pooling2d_18 (MaxPooling (None, 2, 2, 512)         0         \n",
            "_________________________________________________________________\n",
            "conv2d_49 (Conv2D)           (None, 2, 2, 512)         2359808   \n",
            "_________________________________________________________________\n",
            "conv2d_50 (Conv2D)           (None, 2, 2, 512)         2359808   \n",
            "_________________________________________________________________\n",
            "conv2d_51 (Conv2D)           (None, 2, 2, 512)         2359808   \n",
            "_________________________________________________________________\n",
            "max_pooling2d_19 (MaxPooling (None, 1, 1, 512)         0         \n",
            "_________________________________________________________________\n",
            "flatten_3 (Flatten)          (None, 512)               0         \n",
            "_________________________________________________________________\n",
            "dense_9 (Dense)              (None, 4096)              2101248   \n",
            "_________________________________________________________________\n",
            "dense_10 (Dense)             (None, 4096)              16781312  \n",
            "_________________________________________________________________\n",
            "dense_11 (Dense)             (None, 10)                40970     \n",
            "=================================================================\n",
            "Total params: 33,638,218\n",
            "Trainable params: 33,638,218\n",
            "Non-trainable params: 0\n",
            "_________________________________________________________________\n"
          ],
          "name": "stdout"
        }
      ]
    },
    {
      "cell_type": "markdown",
      "metadata": {
        "id": "m5vw1fLYO_WX"
      },
      "source": [
        "### Training model - 3"
      ]
    },
    {
      "cell_type": "code",
      "metadata": {
        "colab": {
          "base_uri": "https://localhost:8080/",
          "height": 676
        },
        "id": "i90iVBHnPEHu",
        "outputId": "a0db1931-5df7-4c1f-a2d8-4be98c8526b7"
      },
      "source": [
        "# define the checkpoint\n",
        "filepath = \"Model_3-{epoch:02d}-{val_accuracy:.4f}.h5\"\n",
        "checkpoint = ModelCheckpoint(  \n",
        "    filepath,\n",
        "    monitor=\"val_accuracy\",\n",
        "    verbose=1,\n",
        "    save_best_only=False,\n",
        "    save_weights_only=False,\n",
        "    mode=\"auto\",\n",
        "    save_freq=\"epoch\")\n",
        "\n",
        "callbacks_list = [checkpoint]\n",
        "\n",
        "# Training\n",
        "history = model_3.fit(train_images, train_labels, epochs=5, batch_size=512,\n",
        "                    validation_data=(test_images, test_labels), callbacks=callbacks_list)\n",
        "\n",
        "# Validation\n",
        "plt.plot(history.history['accuracy'], label='accuracy')\n",
        "plt.plot(history.history['val_accuracy'], label = 'val_accuracy')\n",
        "plt.xlabel('Epoch')\n",
        "plt.ylabel('Accuracy')\n",
        "plt.ylim([0.5, 1])\n",
        "plt.legend(loc='lower right')\n",
        "\n",
        "test_loss, test_acc = model_3.evaluate(test_images,  test_labels, verbose=2)\n",
        "\n",
        "print(test_acc)"
      ],
      "execution_count": null,
      "outputs": [
        {
          "output_type": "stream",
          "text": [
            "Epoch 1/5\n",
            "4/4 [==============================] - 148s 33s/step - loss: 2.2968 - accuracy: 0.4524 - val_loss: 2.1990 - val_accuracy: 0.9048\n",
            "\n",
            "Epoch 00001: saving model to Model_3-01-0.9048.h5\n",
            "Epoch 2/5\n",
            "4/4 [==============================] - 145s 33s/step - loss: 2.0507 - accuracy: 0.8939 - val_loss: 0.5372 - val_accuracy: 0.9048\n",
            "\n",
            "Epoch 00002: saving model to Model_3-02-0.9048.h5\n",
            "Epoch 3/5\n",
            "4/4 [==============================] - 174s 40s/step - loss: 0.7900 - accuracy: 0.8984 - val_loss: 0.4653 - val_accuracy: 0.9048\n",
            "\n",
            "Epoch 00003: saving model to Model_3-03-0.9048.h5\n",
            "Epoch 4/5\n",
            "4/4 [==============================] - 155s 35s/step - loss: 0.5386 - accuracy: 0.8911 - val_loss: 0.6154 - val_accuracy: 0.9048\n",
            "\n",
            "Epoch 00004: saving model to Model_3-04-0.9048.h5\n",
            "Epoch 5/5\n",
            "4/4 [==============================] - 161s 36s/step - loss: 0.5471 - accuracy: 0.8932 - val_loss: 0.4013 - val_accuracy: 0.9048\n",
            "\n",
            "Epoch 00005: saving model to Model_3-05-0.9048.h5\n",
            "13/13 - 3s - loss: 0.4013 - accuracy: 0.9048\n",
            "0.9047619104385376\n"
          ],
          "name": "stdout"
        },
        {
          "output_type": "display_data",
          "data": {
            "image/png": "[encoded data removed]",
            "text/plain": [
              "<Figure size 432x288 with 1 Axes>"
            ]
          },
          "metadata": {
            "tags": [],
            "needs_background": "light"
          }
        }
      ]
    },
    {
      "cell_type": "code",
      "metadata": {
        "colab": {
          "base_uri": "https://localhost:8080/"
        },
        "id": "JCquu5M8POql",
        "outputId": "7aa95cf4-bcc7-446b-b3f1-9e684e20187e"
      },
      "source": [
        "\n",
        "#specify the saved model from before\n",
        "filepath = \"/content/Model_3-05-0.9048.h5\"\n",
        "\n",
        "# load the model\n",
        "new_model = load_model(filepath)\n",
        "\n",
        "y_pred1 = new_model.predict(test_images)\n",
        "y_pred = np.argmax(y_pred1, axis=1)\n",
        "\n",
        "print(classification_report(test_labels, y_pred))\n",
        "\n",
        "# Print f1, precision, and recall scores\n",
        "print(precision_score(test_labels, y_pred , average=\"macro\"))\n",
        "print(recall_score(test_labels, y_pred , average=\"macro\"))\n",
        "\n",
        "print(f1_score(test_labels, y_pred , average=\"macro\"))\n",
        "print(f1_score(test_labels, y_pred , average=\"micro\"))\n",
        "print(f1_score(test_labels, y_pred , average=\"weighted\"))"
      ],
      "execution_count": null,
      "outputs": [
        {
          "output_type": "stream",
          "text": [
            "              precision    recall  f1-score   support\n",
            "\n",
            "           0       0.90      1.00      0.95       361\n",
            "           1       0.00      0.00      0.00        34\n",
            "           2       0.00      0.00      0.00         4\n",
            "\n",
            "    accuracy                           0.90       399\n",
            "   macro avg       0.30      0.33      0.32       399\n",
            "weighted avg       0.82      0.90      0.86       399\n",
            "\n",
            "0.30158730158730157\n",
            "0.3333333333333333\n",
            "0.3166666666666667\n",
            "0.9047619047619048\n",
            "0.8595238095238097\n"
          ],
          "name": "stdout"
        },
        {
          "output_type": "stream",
          "text": [
            "/usr/local/lib/python3.7/dist-packages/sklearn/metrics/_classification.py:1272: UndefinedMetricWarning: Precision and F-score are ill-defined and being set to 0.0 in labels with no predicted samples. Use `zero_division` parameter to control this behavior.\n",
            "  _warn_prf(average, modifier, msg_start, len(result))\n",
            "/usr/local/lib/python3.7/dist-packages/sklearn/metrics/_classification.py:1272: UndefinedMetricWarning: Precision is ill-defined and being set to 0.0 in labels with no predicted samples. Use `zero_division` parameter to control this behavior.\n",
            "  _warn_prf(average, modifier, msg_start, len(result))\n"
          ],
          "name": "stderr"
        }
      ]
    },
    {
      "cell_type": "markdown",
      "metadata": {
        "id": "Evu5F3xZPfZ2"
      },
      "source": [
        "### Facial attribute 4 - Hair Color"
      ]
    },
    {
      "cell_type": "code",
      "metadata": {
        "id": "W8CUkrpHPllJ"
      },
      "source": [
        "# Data splitting\n",
        "X = np.array(image_list)\n",
        "Y = np.array(df['hair_color'])\n",
        "train_images, test_images, train_labels, test_labels = train_test_split(X, Y, test_size=0.2, random_state=42)"
      ],
      "execution_count": null,
      "outputs": []
    },
    {
      "cell_type": "code",
      "metadata": {
        "colab": {
          "base_uri": "https://localhost:8080/"
        },
        "id": "FvKW4_X_Pp4U",
        "outputId": "ad58a440-e481-41f8-904d-a601a5ffd0de"
      },
      "source": [
        "print('Training dataset shape: {}'.format(train_images.shape))\n",
        "print('Testing dataset shape: {}'.format(test_images.shape))"
      ],
      "execution_count": null,
      "outputs": [
        {
          "output_type": "stream",
          "text": [
            "Training dataset shape: (1592, 32, 32, 3)\n",
            "Testing dataset shape: (399, 32, 32, 3)\n"
          ],
          "name": "stdout"
        }
      ]
    },
    {
      "cell_type": "code",
      "metadata": {
        "id": "X_npqEYWPrxp"
      },
      "source": [
        "# Normalize the data\n",
        "train_images, test_images = train_images / 255.0, test_images / 255.0"
      ],
      "execution_count": null,
      "outputs": []
    },
    {
      "cell_type": "markdown",
      "metadata": {
        "id": "hjYdjRzwPuO1"
      },
      "source": [
        "### Model - 4"
      ]
    },
    {
      "cell_type": "code",
      "metadata": {
        "colab": {
          "base_uri": "https://localhost:8080/"
        },
        "id": "hZCXwBk0PxhX",
        "outputId": "c7d8a9bd-d209-4c80-9cfd-02c1bf1b9f03"
      },
      "source": [
        "model_4 = models.Sequential()\n",
        "\n",
        "model_4.add(layers.Conv2D(filters=64,kernel_size=(3,3),padding=\"same\", activation=\"relu\", input_shape=(32,32,3)))\n",
        "model_4.add(layers.Conv2D(filters=64,kernel_size=(3,3),padding=\"same\", activation=\"relu\"))\n",
        "model_4.add(layers.MaxPool2D(pool_size=(2,2),strides=(2,2)))  ## END BLOCK 1\n",
        "model_4.add(layers.Conv2D(filters=128,kernel_size=(3,3),padding=\"same\", activation=\"relu\"))\n",
        "model_4.add(layers.Conv2D(filters=128,kernel_size=(3,3),padding=\"same\", activation=\"relu\"))\n",
        "model_4.add(layers.MaxPool2D(pool_size=(2,2),strides=(2,2)))   ## END BLOCK 2\n",
        "model_4.add(layers.Conv2D(filters=256,kernel_size=(3,3),padding=\"same\", activation=\"relu\"))\n",
        "model_4.add(layers.Conv2D(filters=256,kernel_size=(3,3),padding=\"same\", activation=\"relu\"))\n",
        "model_4.add(layers.Conv2D(filters=256,kernel_size=(3,3),padding=\"same\", activation=\"relu\"))\n",
        "model_4.add(layers.MaxPool2D(pool_size=(2,2),strides=(2,2)))    ## END BLOCK 3 \n",
        "model_4.add(layers.Conv2D(filters=512,kernel_size=(3,3),padding=\"same\", activation=\"relu\"))\n",
        "model_4.add(layers.Conv2D(filters=512,kernel_size=(3,3),padding=\"same\", activation=\"relu\"))\n",
        "model_4.add(layers.Conv2D(filters=512,kernel_size=(3,3),padding=\"same\", activation=\"relu\"))\n",
        "model_4.add(layers.MaxPool2D(pool_size=(2,2),strides=(2,2)))    ## END BLOCK 4 \n",
        "model_4.add(layers.Conv2D(filters=512,kernel_size=(3,3),padding=\"same\", activation=\"relu\"))\n",
        "model_4.add(layers.Conv2D(filters=512,kernel_size=(3,3),padding=\"same\", activation=\"relu\"))\n",
        "model_4.add(layers.Conv2D(filters=512,kernel_size=(3,3),padding=\"same\", activation=\"relu\"))\n",
        "model_4.add(layers.MaxPool2D(pool_size=(2,2),strides=(2,2)))    ## END BLOCK 5 \n",
        "model_4.add(layers.Flatten())    ## converting to vector \n",
        "model_4.add(layers.Dense(4096, activation=\"relu\"))    ## 1st FC layer \n",
        "model_4.add(layers.Dense(4096, activation=\"relu\"))    ## 2st FC layer \n",
        "model_4.add(layers.Dense(10, activation=\"softmax\"))    ## output layer \n",
        "\n",
        "\n",
        "model_4.compile(optimizers.Adam(learning_rate=0.0001),\n",
        "              loss=tf.keras.losses.SparseCategoricalCrossentropy(),\n",
        "              metrics=['accuracy'])\n",
        "\n",
        "model_4.summary()"
      ],
      "execution_count": null,
      "outputs": [
        {
          "output_type": "stream",
          "text": [
            "Model: \"sequential\"\n",
            "_________________________________________________________________\n",
            "Layer (type)                 Output Shape              Param #   \n",
            "=================================================================\n",
            "conv2d (Conv2D)              (None, 32, 32, 64)        1792      \n",
            "_________________________________________________________________\n",
            "conv2d_1 (Conv2D)            (None, 32, 32, 64)        36928     \n",
            "_________________________________________________________________\n",
            "max_pooling2d (MaxPooling2D) (None, 16, 16, 64)        0         \n",
            "_________________________________________________________________\n",
            "conv2d_2 (Conv2D)            (None, 16, 16, 128)       73856     \n",
            "_________________________________________________________________\n",
            "conv2d_3 (Conv2D)            (None, 16, 16, 128)       147584    \n",
            "_________________________________________________________________\n",
            "max_pooling2d_1 (MaxPooling2 (None, 8, 8, 128)         0         \n",
            "_________________________________________________________________\n",
            "conv2d_4 (Conv2D)            (None, 8, 8, 256)         295168    \n",
            "_________________________________________________________________\n",
            "conv2d_5 (Conv2D)            (None, 8, 8, 256)         590080    \n",
            "_________________________________________________________________\n",
            "conv2d_6 (Conv2D)            (None, 8, 8, 256)         590080    \n",
            "_________________________________________________________________\n",
            "max_pooling2d_2 (MaxPooling2 (None, 4, 4, 256)         0         \n",
            "_________________________________________________________________\n",
            "conv2d_7 (Conv2D)            (None, 4, 4, 512)         1180160   \n",
            "_________________________________________________________________\n",
            "conv2d_8 (Conv2D)            (None, 4, 4, 512)         2359808   \n",
            "_________________________________________________________________\n",
            "conv2d_9 (Conv2D)            (None, 4, 4, 512)         2359808   \n",
            "_________________________________________________________________\n",
            "max_pooling2d_3 (MaxPooling2 (None, 2, 2, 512)         0         \n",
            "_________________________________________________________________\n",
            "conv2d_10 (Conv2D)           (None, 2, 2, 512)         2359808   \n",
            "_________________________________________________________________\n",
            "conv2d_11 (Conv2D)           (None, 2, 2, 512)         2359808   \n",
            "_________________________________________________________________\n",
            "conv2d_12 (Conv2D)           (None, 2, 2, 512)         2359808   \n",
            "_________________________________________________________________\n",
            "max_pooling2d_4 (MaxPooling2 (None, 1, 1, 512)         0         \n",
            "_________________________________________________________________\n",
            "flatten (Flatten)            (None, 512)               0         \n",
            "_________________________________________________________________\n",
            "dense (Dense)                (None, 4096)              2101248   \n",
            "_________________________________________________________________\n",
            "dense_1 (Dense)              (None, 4096)              16781312  \n",
            "_________________________________________________________________\n",
            "dense_2 (Dense)              (None, 10)                40970     \n",
            "=================================================================\n",
            "Total params: 33,638,218\n",
            "Trainable params: 33,638,218\n",
            "Non-trainable params: 0\n",
            "_________________________________________________________________\n"
          ],
          "name": "stdout"
        }
      ]
    },
    {
      "cell_type": "markdown",
      "metadata": {
        "id": "CEUAfb36QBPv"
      },
      "source": [
        "### Training model - 4"
      ]
    },
    {
      "cell_type": "code",
      "metadata": {
        "colab": {
          "base_uri": "https://localhost:8080/",
          "height": 676
        },
        "id": "5f-BrA9CQDHz",
        "outputId": "6db053a0-f9a2-4805-d3a2-97d77bb03098"
      },
      "source": [
        "# define the checkpoint\n",
        "filepath = \"Model_4-{epoch:02d}-{val_accuracy:.4f}.h5\"\n",
        "checkpoint = ModelCheckpoint(  \n",
        "    filepath,\n",
        "    monitor=\"val_accuracy\",\n",
        "    verbose=1,\n",
        "    save_best_only=False,\n",
        "    save_weights_only=False,\n",
        "    mode=\"auto\",\n",
        "    save_freq=\"epoch\")\n",
        "\n",
        "callbacks_list = [checkpoint]\n",
        "\n",
        "# Training\n",
        "history = model_4.fit(train_images, train_labels, epochs=5, batch_size=512,\n",
        "                    validation_data=(test_images, test_labels), callbacks=callbacks_list)\n",
        "\n",
        "# Validation\n",
        "plt.plot(history.history['accuracy'], label='accuracy')\n",
        "plt.plot(history.history['val_accuracy'], label = 'val_accuracy')\n",
        "plt.xlabel('Epoch')\n",
        "plt.ylabel('Accuracy')\n",
        "plt.ylim([0, 1])\n",
        "plt.legend(loc='lower right')\n",
        "\n",
        "test_loss, test_acc = model_4.evaluate(test_images,  test_labels, verbose=2)\n",
        "\n",
        "print(test_acc)"
      ],
      "execution_count": null,
      "outputs": [
        {
          "output_type": "stream",
          "text": [
            "Epoch 1/5\n",
            "4/4 [==============================] - 178s 41s/step - loss: 2.2995 - accuracy: 0.2445 - val_loss: 2.2458 - val_accuracy: 0.4010\n",
            "\n",
            "Epoch 00001: saving model to Model_4-01-0.4010.h5\n",
            "Epoch 2/5\n",
            "4/4 [==============================] - 179s 41s/step - loss: 2.1678 - accuracy: 0.3981 - val_loss: 1.9853 - val_accuracy: 0.4010\n",
            "\n",
            "Epoch 00002: saving model to Model_4-02-0.4010.h5\n",
            "Epoch 3/5\n",
            "4/4 [==============================] - 214s 46s/step - loss: 1.8759 - accuracy: 0.4002 - val_loss: 1.8471 - val_accuracy: 0.2281\n",
            "\n",
            "Epoch 00003: saving model to Model_4-03-0.2281.h5\n",
            "Epoch 4/5\n",
            "4/4 [==============================] - 184s 42s/step - loss: 1.8397 - accuracy: 0.2423 - val_loss: 1.7474 - val_accuracy: 0.2281\n",
            "\n",
            "Epoch 00004: saving model to Model_4-04-0.2281.h5\n",
            "Epoch 5/5\n",
            "4/4 [==============================] - 192s 45s/step - loss: 1.7633 - accuracy: 0.2678 - val_loss: 1.6878 - val_accuracy: 0.4010\n",
            "\n",
            "Epoch 00005: saving model to Model_4-05-0.4010.h5\n",
            "13/13 - 6s - loss: 1.6878 - accuracy: 0.4010\n",
            "0.4010024964809418\n"
          ],
          "name": "stdout"
        },
        {
          "output_type": "display_data",
          "data": {
            "image/png": "[encoded data removed]",
            "text/plain": [
              "<Figure size 432x288 with 1 Axes>"
            ]
          },
          "metadata": {
            "tags": [],
            "needs_background": "light"
          }
        }
      ]
    },
    {
      "cell_type": "code",
      "metadata": {
        "colab": {
          "base_uri": "https://localhost:8080/"
        },
        "id": "QBUIFbm5QMCJ",
        "outputId": "94b940c7-6d9c-4826-d270-bbc0b0dce114"
      },
      "source": [
        "\n",
        "#specify the saved model from before\n",
        "filepath = \"/content/Model_4-05-0.4010.h5\"\n",
        "\n",
        "# load the model\n",
        "new_model = load_model(filepath)\n",
        "\n",
        "y_pred1 = new_model.predict(test_images)\n",
        "y_pred = np.argmax(y_pred1, axis=1)\n",
        "\n",
        "print(classification_report(test_labels, y_pred))\n",
        "\n",
        "# Print f1, precision, and recall scores\n",
        "print(precision_score(test_labels, y_pred , average=\"macro\"))\n",
        "print(recall_score(test_labels, y_pred , average=\"macro\"))\n",
        "\n",
        "print(f1_score(test_labels, y_pred , average=\"macro\"))\n",
        "print(f1_score(test_labels, y_pred , average=\"micro\"))\n",
        "print(f1_score(test_labels, y_pred , average=\"weighted\"))"
      ],
      "execution_count": null,
      "outputs": [
        {
          "output_type": "stream",
          "text": [
            "              precision    recall  f1-score   support\n",
            "\n",
            "           0       0.00      0.00      0.00        91\n",
            "           1       0.40      1.00      0.57       160\n",
            "           2       0.00      0.00      0.00        40\n",
            "           3       0.00      0.00      0.00        54\n",
            "           4       0.00      0.00      0.00         3\n",
            "           5       0.00      0.00      0.00        23\n",
            "           6       0.00      0.00      0.00         7\n",
            "           7       0.00      0.00      0.00         3\n",
            "           8       0.00      0.00      0.00        18\n",
            "\n",
            "    accuracy                           0.40       399\n",
            "   macro avg       0.04      0.11      0.06       399\n",
            "weighted avg       0.16      0.40      0.23       399\n",
            "\n",
            "0.04455583402951824\n",
            "0.1111111111111111\n",
            "0.06360564500099383\n",
            "0.40100250626566414\n",
            "0.22955420752238379\n"
          ],
          "name": "stdout"
        },
        {
          "output_type": "stream",
          "text": [
            "/usr/local/lib/python3.7/dist-packages/sklearn/metrics/_classification.py:1272: UndefinedMetricWarning: Precision and F-score are ill-defined and being set to 0.0 in labels with no predicted samples. Use `zero_division` parameter to control this behavior.\n",
            "  _warn_prf(average, modifier, msg_start, len(result))\n",
            "/usr/local/lib/python3.7/dist-packages/sklearn/metrics/_classification.py:1272: UndefinedMetricWarning: Precision is ill-defined and being set to 0.0 in labels with no predicted samples. Use `zero_division` parameter to control this behavior.\n",
            "  _warn_prf(average, modifier, msg_start, len(result))\n"
          ],
          "name": "stderr"
        }
      ]
    },
    {
      "cell_type": "markdown",
      "metadata": {
        "id": "E-Om2Nr-QNc6"
      },
      "source": [
        "### Facial attribute 5 - Hair top"
      ]
    },
    {
      "cell_type": "code",
      "metadata": {
        "id": "AevMWx0mQR1H"
      },
      "source": [
        "# Data splitting\n",
        "X = np.array(image_list)\n",
        "Y = np.array(df['hair_top'])\n",
        "train_images, test_images, train_labels, test_labels = train_test_split(X, Y, test_size=0.2, random_state=42)"
      ],
      "execution_count": null,
      "outputs": []
    },
    {
      "cell_type": "code",
      "metadata": {
        "colab": {
          "base_uri": "https://localhost:8080/"
        },
        "id": "UU9A24coRIG3",
        "outputId": "3f90a57f-3385-418e-daab-510cdecc0190"
      },
      "source": [
        "print('Training dataset shape: {}'.format(train_images.shape))\n",
        "print('Testing dataset shape: {}'.format(test_images.shape))"
      ],
      "execution_count": null,
      "outputs": [
        {
          "output_type": "stream",
          "text": [
            "Training dataset shape: (1592, 32, 32, 3)\n",
            "Testing dataset shape: (399, 32, 32, 3)\n"
          ],
          "name": "stdout"
        }
      ]
    },
    {
      "cell_type": "code",
      "metadata": {
        "id": "C8U_eJytRJPi"
      },
      "source": [
        "# Normalize the data\n",
        "train_images, test_images = train_images / 255.0, test_images / 255.0"
      ],
      "execution_count": null,
      "outputs": []
    },
    {
      "cell_type": "markdown",
      "metadata": {
        "id": "J1ebgBihRNpn"
      },
      "source": [
        "### Model - 5"
      ]
    },
    {
      "cell_type": "code",
      "metadata": {
        "colab": {
          "base_uri": "https://localhost:8080/"
        },
        "id": "2I3Nj9SORQfI",
        "outputId": "cf6db334-b2be-4aea-8d1c-ddb38ae34e9f"
      },
      "source": [
        "model_5 = models.Sequential()\n",
        "\n",
        "model_5.add(layers.Conv2D(filters=64,kernel_size=(3,3),padding=\"same\", activation=\"relu\", input_shape=(32,32,3)))\n",
        "model_5.add(layers.Conv2D(filters=64,kernel_size=(3,3),padding=\"same\", activation=\"relu\"))\n",
        "model_5.add(layers.MaxPool2D(pool_size=(2,2),strides=(2,2)))  ## END BLOCK 1\n",
        "model_5.add(layers.Conv2D(filters=128,kernel_size=(3,3),padding=\"same\", activation=\"relu\"))\n",
        "model_5.add(layers.Conv2D(filters=128,kernel_size=(3,3),padding=\"same\", activation=\"relu\"))\n",
        "model_5.add(layers.MaxPool2D(pool_size=(2,2),strides=(2,2)))   ## END BLOCK 2\n",
        "model_5.add(layers.Conv2D(filters=256,kernel_size=(3,3),padding=\"same\", activation=\"relu\"))\n",
        "model_5.add(layers.Conv2D(filters=256,kernel_size=(3,3),padding=\"same\", activation=\"relu\"))\n",
        "model_5.add(layers.Conv2D(filters=256,kernel_size=(3,3),padding=\"same\", activation=\"relu\"))\n",
        "model_5.add(layers.MaxPool2D(pool_size=(2,2),strides=(2,2)))    ## END BLOCK 3 \n",
        "model_5.add(layers.Conv2D(filters=512,kernel_size=(3,3),padding=\"same\", activation=\"relu\"))\n",
        "model_5.add(layers.Conv2D(filters=512,kernel_size=(3,3),padding=\"same\", activation=\"relu\"))\n",
        "model_5.add(layers.Conv2D(filters=512,kernel_size=(3,3),padding=\"same\", activation=\"relu\"))\n",
        "model_5.add(layers.MaxPool2D(pool_size=(2,2),strides=(2,2)))    ## END BLOCK 4 \n",
        "model_5.add(layers.Conv2D(filters=512,kernel_size=(3,3),padding=\"same\", activation=\"relu\"))\n",
        "model_5.add(layers.Conv2D(filters=512,kernel_size=(3,3),padding=\"same\", activation=\"relu\"))\n",
        "model_5.add(layers.Conv2D(filters=512,kernel_size=(3,3),padding=\"same\", activation=\"relu\"))\n",
        "model_5.add(layers.MaxPool2D(pool_size=(2,2),strides=(2,2)))    ## END BLOCK 5 \n",
        "model_5.add(layers.Flatten())    ## converting to vector \n",
        "model_5.add(layers.Dense(4096, activation=\"relu\"))    ## 1st FC layer \n",
        "model_5.add(layers.Dense(4096, activation=\"relu\"))    ## 2st FC layer \n",
        "model_5.add(layers.Dense(10, activation=\"softmax\"))    ## output layer \n",
        "\n",
        "\n",
        "model_5.compile(optimizers.Adam(learning_rate=0.0001),\n",
        "              loss=tf.keras.losses.SparseCategoricalCrossentropy(),\n",
        "              metrics=['accuracy'])\n",
        "\n",
        "model_5.summary()"
      ],
      "execution_count": null,
      "outputs": [
        {
          "output_type": "stream",
          "text": [
            "Model: \"sequential_5\"\n",
            "_________________________________________________________________\n",
            "Layer (type)                 Output Shape              Param #   \n",
            "=================================================================\n",
            "conv2d_65 (Conv2D)           (None, 32, 32, 64)        1792      \n",
            "_________________________________________________________________\n",
            "conv2d_66 (Conv2D)           (None, 32, 32, 64)        36928     \n",
            "_________________________________________________________________\n",
            "max_pooling2d_25 (MaxPooling (None, 16, 16, 64)        0         \n",
            "_________________________________________________________________\n",
            "conv2d_67 (Conv2D)           (None, 16, 16, 128)       73856     \n",
            "_________________________________________________________________\n",
            "conv2d_68 (Conv2D)           (None, 16, 16, 128)       147584    \n",
            "_________________________________________________________________\n",
            "max_pooling2d_26 (MaxPooling (None, 8, 8, 128)         0         \n",
            "_________________________________________________________________\n",
            "conv2d_69 (Conv2D)           (None, 8, 8, 256)         295168    \n",
            "_________________________________________________________________\n",
            "conv2d_70 (Conv2D)           (None, 8, 8, 256)         590080    \n",
            "_________________________________________________________________\n",
            "conv2d_71 (Conv2D)           (None, 8, 8, 256)         590080    \n",
            "_________________________________________________________________\n",
            "max_pooling2d_27 (MaxPooling (None, 4, 4, 256)         0         \n",
            "_________________________________________________________________\n",
            "conv2d_72 (Conv2D)           (None, 4, 4, 512)         1180160   \n",
            "_________________________________________________________________\n",
            "conv2d_73 (Conv2D)           (None, 4, 4, 512)         2359808   \n",
            "_________________________________________________________________\n",
            "conv2d_74 (Conv2D)           (None, 4, 4, 512)         2359808   \n",
            "_________________________________________________________________\n",
            "max_pooling2d_28 (MaxPooling (None, 2, 2, 512)         0         \n",
            "_________________________________________________________________\n",
            "conv2d_75 (Conv2D)           (None, 2, 2, 512)         2359808   \n",
            "_________________________________________________________________\n",
            "conv2d_76 (Conv2D)           (None, 2, 2, 512)         2359808   \n",
            "_________________________________________________________________\n",
            "conv2d_77 (Conv2D)           (None, 2, 2, 512)         2359808   \n",
            "_________________________________________________________________\n",
            "max_pooling2d_29 (MaxPooling (None, 1, 1, 512)         0         \n",
            "_________________________________________________________________\n",
            "flatten_5 (Flatten)          (None, 512)               0         \n",
            "_________________________________________________________________\n",
            "dense_15 (Dense)             (None, 4096)              2101248   \n",
            "_________________________________________________________________\n",
            "dense_16 (Dense)             (None, 4096)              16781312  \n",
            "_________________________________________________________________\n",
            "dense_17 (Dense)             (None, 10)                40970     \n",
            "=================================================================\n",
            "Total params: 33,638,218\n",
            "Trainable params: 33,638,218\n",
            "Non-trainable params: 0\n",
            "_________________________________________________________________\n"
          ],
          "name": "stdout"
        }
      ]
    },
    {
      "cell_type": "markdown",
      "metadata": {
        "id": "9fOg9SsRRa-F"
      },
      "source": [
        "### Training model - 5"
      ]
    },
    {
      "cell_type": "code",
      "metadata": {
        "colab": {
          "base_uri": "https://localhost:8080/",
          "height": 676
        },
        "id": "XioOrmuCRhfQ",
        "outputId": "07186722-bdf0-46df-b729-9b587004df0c"
      },
      "source": [
        "# define the checkpoint\n",
        "filepath = \"Model_5-{epoch:02d}-{val_accuracy:.4f}.h5\"\n",
        "checkpoint = ModelCheckpoint(  \n",
        "    filepath,\n",
        "    monitor=\"val_accuracy\",\n",
        "    verbose=1,\n",
        "    save_best_only=False,\n",
        "    save_weights_only=False,\n",
        "    mode=\"auto\",\n",
        "    save_freq=\"epoch\")\n",
        "\n",
        "callbacks_list = [checkpoint]\n",
        "\n",
        "# Training\n",
        "history = model_5.fit(train_images, train_labels, epochs=5, batch_size=512,\n",
        "                    validation_data=(test_images, test_labels), callbacks=callbacks_list)\n",
        "\n",
        "# Validation\n",
        "plt.plot(history.history['accuracy'], label='accuracy')\n",
        "plt.plot(history.history['val_accuracy'], label = 'val_accuracy')\n",
        "plt.xlabel('Epoch')\n",
        "plt.ylabel('Accuracy')\n",
        "plt.ylim([0, 1])\n",
        "plt.legend(loc='lower right')\n",
        "\n",
        "test_loss, test_acc = model_5.evaluate(test_images,  test_labels, verbose=2)\n",
        "\n",
        "print(test_acc)"
      ],
      "execution_count": null,
      "outputs": [
        {
          "output_type": "stream",
          "text": [
            "Epoch 1/5\n",
            "4/4 [==============================] - 148s 34s/step - loss: 2.2971 - accuracy: 0.6593 - val_loss: 2.1955 - val_accuracy: 0.7444\n",
            "\n",
            "Epoch 00001: saving model to Model_5-01-0.7444.h5\n",
            "Epoch 2/5\n",
            "4/4 [==============================] - 153s 35s/step - loss: 2.0508 - accuracy: 0.7250 - val_loss: 1.3822 - val_accuracy: 0.7444\n",
            "\n",
            "Epoch 00002: saving model to Model_5-02-0.7444.h5\n",
            "Epoch 3/5\n",
            "4/4 [==============================] - 139s 31s/step - loss: 1.4067 - accuracy: 0.7217 - val_loss: 1.2076 - val_accuracy: 0.7444\n",
            "\n",
            "Epoch 00003: saving model to Model_5-03-0.7444.h5\n",
            "Epoch 4/5\n",
            "4/4 [==============================] - 137s 31s/step - loss: 1.2138 - accuracy: 0.7243 - val_loss: 0.9449 - val_accuracy: 0.7444\n",
            "\n",
            "Epoch 00004: saving model to Model_5-04-0.7444.h5\n",
            "Epoch 5/5\n",
            "4/4 [==============================] - 132s 29s/step - loss: 1.0125 - accuracy: 0.7281 - val_loss: 0.8905 - val_accuracy: 0.7444\n",
            "\n",
            "Epoch 00005: saving model to Model_5-05-0.7444.h5\n",
            "13/13 - 3s - loss: 0.8905 - accuracy: 0.7444\n",
            "0.7443609237670898\n"
          ],
          "name": "stdout"
        },
        {
          "output_type": "display_data",
          "data": {
            "image/png": "[encoded data removed]",
            "text/plain": [
              "<Figure size 432x288 with 1 Axes>"
            ]
          },
          "metadata": {
            "tags": [],
            "needs_background": "light"
          }
        }
      ]
    },
    {
      "cell_type": "code",
      "metadata": {
        "colab": {
          "base_uri": "https://localhost:8080/"
        },
        "id": "9KRm9Ss7RqYs",
        "outputId": "3a7ff314-0ba0-490a-f018-4f9a75741526"
      },
      "source": [
        "#specify the saved model from before\n",
        "filepath = \"/content/Model_5-05-0.7444.h5\"\n",
        "\n",
        "# load the model\n",
        "new_model = load_model(filepath)\n",
        "\n",
        "y_pred1 = new_model.predict(test_images)\n",
        "y_pred = np.argmax(y_pred1, axis=1)\n",
        "\n",
        "print(classification_report(test_labels, y_pred))\n",
        "\n",
        "# Print f1, precision, and recall scores\n",
        "print(precision_score(test_labels, y_pred , average=\"macro\"))\n",
        "print(recall_score(test_labels, y_pred , average=\"macro\"))\n",
        "\n",
        "print(f1_score(test_labels, y_pred , average=\"macro\"))\n",
        "print(f1_score(test_labels, y_pred , average=\"micro\"))\n",
        "print(f1_score(test_labels, y_pred , average=\"weighted\"))"
      ],
      "execution_count": null,
      "outputs": [
        {
          "output_type": "stream",
          "text": [
            "              precision    recall  f1-score   support\n",
            "\n",
            "           0       0.00      0.00      0.00        24\n",
            "           1       0.00      0.00      0.00        50\n",
            "           2       0.74      1.00      0.85       297\n",
            "           3       0.00      0.00      0.00        28\n",
            "\n",
            "    accuracy                           0.74       399\n",
            "   macro avg       0.19      0.25      0.21       399\n",
            "weighted avg       0.55      0.74      0.64       399\n",
            "\n",
            "0.18609022556390978\n",
            "0.25\n",
            "0.21336206896551727\n",
            "0.7443609022556391\n",
            "0.6352735286492093\n"
          ],
          "name": "stdout"
        },
        {
          "output_type": "stream",
          "text": [
            "/usr/local/lib/python3.7/dist-packages/sklearn/metrics/_classification.py:1272: UndefinedMetricWarning: Precision and F-score are ill-defined and being set to 0.0 in labels with no predicted samples. Use `zero_division` parameter to control this behavior.\n",
            "  _warn_prf(average, modifier, msg_start, len(result))\n",
            "/usr/local/lib/python3.7/dist-packages/sklearn/metrics/_classification.py:1272: UndefinedMetricWarning: Precision is ill-defined and being set to 0.0 in labels with no predicted samples. Use `zero_division` parameter to control this behavior.\n",
            "  _warn_prf(average, modifier, msg_start, len(result))\n"
          ],
          "name": "stderr"
        }
      ]
    }
  ]
}